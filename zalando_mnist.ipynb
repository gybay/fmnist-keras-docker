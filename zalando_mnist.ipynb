{
 "cells": [
  {
   "cell_type": "code",
   "execution_count": 1,
   "metadata": {},
   "outputs": [
    {
     "name": "stderr",
     "output_type": "stream",
     "text": [
      "Using TensorFlow backend.\n"
     ]
    }
   ],
   "source": [
    "from keras.models import Sequential\n",
    "from keras.layers import Conv2D, MaxPooling2D, Flatten, Dense, Dropout\n",
    "from keras.callbacks import ModelCheckpoint, ReduceLROnPlateau\n",
    "from keras.datasets import fashion_mnist\n",
    "import numpy as np\n",
    "import sklearn\n",
    "import matplotlib.pyplot as plt\n",
    "from keras.utils import to_categorical"
   ]
  },
  {
   "cell_type": "code",
   "execution_count": 2,
   "metadata": {},
   "outputs": [],
   "source": [
    "%matplotlib inline\n",
    "plt.rcParams['figure.figsize'] = (10.0, 8.0) # set default size of plots\n",
    "plt.rcParams['image.interpolation'] = 'nearest'\n",
    "plt.rcParams['image.cmap'] = 'gray'"
   ]
  },
  {
   "cell_type": "markdown",
   "metadata": {},
   "source": [
    "## Functions"
   ]
  },
  {
   "cell_type": "code",
   "execution_count": 3,
   "metadata": {},
   "outputs": [],
   "source": [
    "def multi_print_data(data, labels):\n",
    "    '''\n",
    "    https://medium.com/@mjbhobe/mnist-digits-classification-with-keras-ed6c2374bd0e\n",
    "    '''\n",
    "    num_rows, num_cols = 2, 7\n",
    "    f, ax = plt.subplots(num_rows, num_cols, figsize=(12,5),\n",
    "                         gridspec_kw={'wspace':0.03, 'hspace':0.01}, \n",
    "                         squeeze=True)\n",
    "    for r in range(num_rows):\n",
    "        for c in range(num_cols):\n",
    "            image_index = r * 7 + c\n",
    "            ax[r,c].axis(\"off\")\n",
    "            ax[r,c].imshow(data[image_index], cmap='gray')\n",
    "            ax[r,c].set_title('Class. %d' % labels[image_index])\n",
    "    plt.show()\n",
    "    plt.close()"
   ]
  },
  {
   "cell_type": "code",
   "execution_count": 4,
   "metadata": {},
   "outputs": [],
   "source": [
    "def build_model(num_classes):\n",
    "    '''\n",
    "    creates a CNN model using Keras’ Sequential API with \n",
    "        3 Conv2D layers with 32, 64 and 64 filters each, \n",
    "        using the relu activation, kernel_size=(3,3) and padding=’same’\n",
    "        Each Conv2D layer is followed immediately by a MaxPooling2D layer with a pool_size=(2,2)\n",
    "        with 0.5 dropout to avoid overfitting\n",
    "        follow this with a Dense layer with 512 nodes and relu activation\n",
    "        output layer is a Dense layer with #num_classes nodes and softmax activation function\n",
    "        compile the model with categorical_crossentropy loss and the adam optimizer.\n",
    "    '''\n",
    "    model = Sequential()\n",
    "    # add Convolutional layers\n",
    "    model.add(Conv2D(filters=32, kernel_size=(3,3), activation='relu', padding='same',\n",
    "                     input_shape=(image_height, image_width, num_channels)))\n",
    "    model.add(MaxPooling2D(pool_size=(2,2)))\n",
    "    model.add(Conv2D(filters=64, kernel_size=(3,3), activation='relu', padding='same'))\n",
    "    model.add(MaxPooling2D(pool_size=(2,2)))\n",
    "    model.add(Conv2D(filters=64, kernel_size=(3,3), activation='relu', padding='same'))\n",
    "    model.add(MaxPooling2D(pool_size=(2,2)))   \n",
    "    model.add(Dropout(0.5))\n",
    "    model.add(Flatten())\n",
    "    # Densely connected layers\n",
    "    model.add(Dense(128, activation='relu'))\n",
    "    # output layer\n",
    "    model.add(Dense(num_classes, activation='softmax'))\n",
    "    # compile with adam optimizer & categorical_crossentropy loss function\n",
    "    model.compile(optimizer='adam', loss='categorical_crossentropy', metrics=['accuracy'])\n",
    "    return model\n"
   ]
  },
  {
   "cell_type": "code",
   "execution_count": 6,
   "metadata": {},
   "outputs": [],
   "source": [
    "def show_model_results(history):\n",
    "    x_axis= list(range(len(history['val_acc'])))\n",
    "    plt.plot(x_axis, history['val_acc'], '-o')\n",
    "    plt.plot(x_axis, history['val_loss'], '-v')\n",
    "    plt.legend(['val_acc', 'val_loss'])\n",
    "    plt.grid()"
   ]
  },
  {
   "cell_type": "markdown",
   "metadata": {},
   "source": [
    "## Read and look into the data"
   ]
  },
  {
   "cell_type": "code",
   "execution_count": 7,
   "metadata": {},
   "outputs": [
    {
     "name": "stdout",
     "output_type": "stream",
     "text": [
      "Downloading data from http://fashion-mnist.s3-website.eu-central-1.amazonaws.com/train-labels-idx1-ubyte.gz\n",
      "32768/29515 [=================================] - 0s 2us/step\n",
      "Downloading data from http://fashion-mnist.s3-website.eu-central-1.amazonaws.com/train-images-idx3-ubyte.gz\n",
      "26427392/26421880 [==============================] - 19s 1us/step\n",
      "Downloading data from http://fashion-mnist.s3-website.eu-central-1.amazonaws.com/t10k-labels-idx1-ubyte.gz\n",
      "8192/5148 [===============================================] - 0s 0us/step\n",
      "Downloading data from http://fashion-mnist.s3-website.eu-central-1.amazonaws.com/t10k-images-idx3-ubyte.gz\n",
      "4423680/4422102 [==============================] - 2s 0us/step\n",
      "(60000, 28, 28)\n"
     ]
    }
   ],
   "source": [
    "((trainX, trainY), (testX, testY)) = fashion_mnist.load_data()\n",
    "\n",
    "print(trainX.shape) \n",
    "image_height = trainX.shape[1]  \n",
    "image_width = trainX.shape[2]\n",
    "num_channels = 1 #grayscale data"
   ]
  },
  {
   "cell_type": "markdown",
   "metadata": {},
   "source": [
    "### Preprossing"
   ]
  },
  {
   "cell_type": "code",
   "execution_count": 8,
   "metadata": {},
   "outputs": [
    {
     "name": "stdout",
     "output_type": "stream",
     "text": [
      "(60000, 28, 28, 1) (10000, 28, 28, 1)\n",
      "(60000, 10) (10000, 10)\n",
      "train set shape:  (54000, 28, 28, 1)\n",
      "validation set shape:  (6000, 28, 28, 1)\n"
     ]
    }
   ],
   "source": [
    "# reshape\n",
    "train_data = np.reshape(trainX, (trainX.shape[0], image_height, image_width, num_channels))\n",
    "test_data = np.reshape(testX, (testX.shape[0], image_height, image_width, num_channels))\n",
    "\n",
    "print(train_data.shape, test_data.shape)\n",
    "\n",
    "# re-scale to [0-1]\n",
    "train_data = train_data.astype('float32') / 255.\n",
    "test_data = test_data.astype('float32') / 255.\n",
    "\n",
    "# one-hot encoding labels\n",
    "num_of_classes = 10\n",
    "train_labels = to_categorical(trainY, num_of_classes)\n",
    "test_labels = to_categorical(testY, num_of_classes)\n",
    "\n",
    "print(train_labels.shape, test_labels.shape)\n",
    "\n",
    "# splitting train data into train and validation sets\n",
    "np.random.seed(123) # use seed for consistent train validation data split\n",
    "perc = int(0.10 * len(train_data)) # seperate 10% for validation\n",
    "indexes = np.random.permutation(len(train_data)) # shuffled data \n",
    "train_data =train_data[indexes]\n",
    "train_labels = train_labels[indexes]\n",
    "\n",
    "train_data_val = train_data[:perc,:]\n",
    "train_labels_val = train_labels[:perc,:]\n",
    "\n",
    "train_data_t = train_data[perc:,:]\n",
    "train_labels_t = train_labels[perc:,:]\n",
    "\n",
    "print(\"train set shape: \", train_data_t.shape)\n",
    "print(\"validation set shape: \", train_data_val.shape)"
   ]
  },
  {
   "cell_type": "markdown",
   "metadata": {},
   "source": [
    "## Train a CNN model and fit"
   ]
  },
  {
   "cell_type": "code",
   "execution_count": 9,
   "metadata": {},
   "outputs": [
    {
     "name": "stdout",
     "output_type": "stream",
     "text": [
      "WARNING:tensorflow:From /opt/conda/lib/python3.7/site-packages/tensorflow/python/framework/op_def_library.py:263: colocate_with (from tensorflow.python.framework.ops) is deprecated and will be removed in a future version.\n",
      "Instructions for updating:\n",
      "Colocations handled automatically by placer.\n",
      "WARNING:tensorflow:From /opt/conda/lib/python3.7/site-packages/keras/backend/tensorflow_backend.py:3721: calling dropout (from tensorflow.python.ops.nn_ops) with keep_prob is deprecated and will be removed in a future version.\n",
      "Instructions for updating:\n",
      "Please use `rate` instead of `keep_prob`. Rate should be set to `rate = 1 - keep_prob`.\n",
      "Model: \"sequential_1\"\n",
      "_________________________________________________________________\n",
      "Layer (type)                 Output Shape              Param #   \n",
      "=================================================================\n",
      "conv2d_1 (Conv2D)            (None, 28, 28, 32)        320       \n",
      "_________________________________________________________________\n",
      "max_pooling2d_1 (MaxPooling2 (None, 14, 14, 32)        0         \n",
      "_________________________________________________________________\n",
      "conv2d_2 (Conv2D)            (None, 14, 14, 64)        18496     \n",
      "_________________________________________________________________\n",
      "max_pooling2d_2 (MaxPooling2 (None, 7, 7, 64)          0         \n",
      "_________________________________________________________________\n",
      "conv2d_3 (Conv2D)            (None, 7, 7, 64)          36928     \n",
      "_________________________________________________________________\n",
      "max_pooling2d_3 (MaxPooling2 (None, 3, 3, 64)          0         \n",
      "_________________________________________________________________\n",
      "dropout_1 (Dropout)          (None, 3, 3, 64)          0         \n",
      "_________________________________________________________________\n",
      "flatten_1 (Flatten)          (None, 576)               0         \n",
      "_________________________________________________________________\n",
      "dense_1 (Dense)              (None, 128)               73856     \n",
      "_________________________________________________________________\n",
      "dense_2 (Dense)              (None, 10)                1290      \n",
      "=================================================================\n",
      "Total params: 130,890\n",
      "Trainable params: 130,890\n",
      "Non-trainable params: 0\n",
      "_________________________________________________________________\n",
      "None\n",
      "WARNING:tensorflow:From /opt/conda/lib/python3.7/site-packages/tensorflow/python/ops/math_ops.py:3066: to_int32 (from tensorflow.python.ops.math_ops) is deprecated and will be removed in a future version.\n",
      "Instructions for updating:\n",
      "Use tf.cast instead.\n"
     ]
    },
    {
     "name": "stderr",
     "output_type": "stream",
     "text": [
      "/opt/conda/lib/python3.7/site-packages/keras/callbacks.py:1335: UserWarning: `epsilon` argument is deprecated and will be removed, use `min_delta` instead.\n",
      "  warnings.warn('`epsilon` argument is deprecated and '\n"
     ]
    },
    {
     "name": "stdout",
     "output_type": "stream",
     "text": [
      "Train on 54000 samples, validate on 6000 samples\n",
      "Epoch 1/50\n",
      "54000/54000 [==============================] - 37s 678us/step - loss: 0.5903 - acc: 0.7817 - val_loss: 0.3537 - val_acc: 0.8767\n",
      "Epoch 2/50\n",
      "54000/54000 [==============================] - 36s 668us/step - loss: 0.3775 - acc: 0.8610 - val_loss: 0.2890 - val_acc: 0.8915\n",
      "Epoch 3/50\n",
      "54000/54000 [==============================] - 37s 677us/step - loss: 0.3250 - acc: 0.8805 - val_loss: 0.2627 - val_acc: 0.9007\n",
      "Epoch 4/50\n",
      "54000/54000 [==============================] - 37s 686us/step - loss: 0.2961 - acc: 0.8914 - val_loss: 0.2494 - val_acc: 0.9102\n",
      "Epoch 5/50\n",
      "54000/54000 [==============================] - 37s 684us/step - loss: 0.2721 - acc: 0.8989 - val_loss: 0.2340 - val_acc: 0.9153\n",
      "Epoch 6/50\n",
      "54000/54000 [==============================] - 37s 680us/step - loss: 0.2575 - acc: 0.9045 - val_loss: 0.2303 - val_acc: 0.9158\n",
      "Epoch 7/50\n",
      "54000/54000 [==============================] - 37s 686us/step - loss: 0.2446 - acc: 0.9087 - val_loss: 0.2235 - val_acc: 0.9200\n",
      "Epoch 8/50\n",
      "54000/54000 [==============================] - 37s 681us/step - loss: 0.2295 - acc: 0.9143 - val_loss: 0.2159 - val_acc: 0.9220\n",
      "Epoch 9/50\n",
      "54000/54000 [==============================] - 37s 676us/step - loss: 0.2207 - acc: 0.9174 - val_loss: 0.2167 - val_acc: 0.9213\n",
      "Epoch 10/50\n",
      "54000/54000 [==============================] - 37s 682us/step - loss: 0.2117 - acc: 0.9197 - val_loss: 0.2084 - val_acc: 0.9235\n",
      "Epoch 11/50\n",
      "54000/54000 [==============================] - 37s 680us/step - loss: 0.2043 - acc: 0.9227 - val_loss: 0.2107 - val_acc: 0.9248\n",
      "Epoch 12/50\n",
      "54000/54000 [==============================] - 37s 678us/step - loss: 0.1989 - acc: 0.9244 - val_loss: 0.2035 - val_acc: 0.9238\n",
      "Epoch 13/50\n",
      "54000/54000 [==============================] - 37s 682us/step - loss: 0.1916 - acc: 0.9281 - val_loss: 0.2139 - val_acc: 0.9250\n",
      "Epoch 14/50\n",
      "54000/54000 [==============================] - 37s 679us/step - loss: 0.1856 - acc: 0.9298 - val_loss: 0.2146 - val_acc: 0.9215\n",
      "Epoch 15/50\n",
      "54000/54000 [==============================] - 37s 683us/step - loss: 0.1788 - acc: 0.9328 - val_loss: 0.2074 - val_acc: 0.9247\n",
      "Epoch 16/50\n",
      "54000/54000 [==============================] - 37s 690us/step - loss: 0.1735 - acc: 0.9353 - val_loss: 0.2049 - val_acc: 0.9298\n",
      "Epoch 17/50\n",
      "54000/54000 [==============================] - 37s 684us/step - loss: 0.1704 - acc: 0.9362 - val_loss: 0.2061 - val_acc: 0.9300\n",
      "Epoch 18/50\n",
      "54000/54000 [==============================] - 37s 688us/step - loss: 0.1661 - acc: 0.9363 - val_loss: 0.1998 - val_acc: 0.9288\n",
      "Epoch 19/50\n",
      "54000/54000 [==============================] - 36s 676us/step - loss: 0.1610 - acc: 0.9384 - val_loss: 0.2069 - val_acc: 0.9255\n",
      "Epoch 20/50\n",
      "54000/54000 [==============================] - 38s 708us/step - loss: 0.1587 - acc: 0.9398 - val_loss: 0.1984 - val_acc: 0.9297\n",
      "Epoch 21/50\n",
      "54000/54000 [==============================] - 38s 705us/step - loss: 0.1532 - acc: 0.9417 - val_loss: 0.2227 - val_acc: 0.9270\n",
      "Epoch 22/50\n",
      "54000/54000 [==============================] - 38s 709us/step - loss: 0.1502 - acc: 0.9431 - val_loss: 0.1999 - val_acc: 0.9310\n",
      "Epoch 23/50\n",
      "54000/54000 [==============================] - 38s 708us/step - loss: 0.1473 - acc: 0.9446 - val_loss: 0.2099 - val_acc: 0.9297\n",
      "Epoch 24/50\n",
      "54000/54000 [==============================] - 38s 704us/step - loss: 0.1475 - acc: 0.9432 - val_loss: 0.2015 - val_acc: 0.9290\n",
      "Epoch 25/50\n",
      "54000/54000 [==============================] - 39s 716us/step - loss: 0.1402 - acc: 0.9473 - val_loss: 0.2013 - val_acc: 0.9307\n",
      "Epoch 26/50\n",
      "54000/54000 [==============================] - 39s 727us/step - loss: 0.1390 - acc: 0.9472 - val_loss: 0.2000 - val_acc: 0.9325\n",
      "Epoch 27/50\n",
      "54000/54000 [==============================] - 38s 713us/step - loss: 0.1390 - acc: 0.9473 - val_loss: 0.2061 - val_acc: 0.9307\n",
      "\n",
      "Epoch 00027: ReduceLROnPlateau reducing learning rate to 0.00010000000474974513.\n",
      "Epoch 28/50\n",
      "54000/54000 [==============================] - 39s 713us/step - loss: 0.1113 - acc: 0.9580 - val_loss: 0.1955 - val_acc: 0.9362\n",
      "Epoch 29/50\n",
      "54000/54000 [==============================] - 39s 720us/step - loss: 0.1022 - acc: 0.9612 - val_loss: 0.1962 - val_acc: 0.9380\n",
      "Epoch 30/50\n",
      "54000/54000 [==============================] - 38s 708us/step - loss: 0.0972 - acc: 0.9631 - val_loss: 0.1970 - val_acc: 0.9382\n",
      "Epoch 31/50\n",
      "54000/54000 [==============================] - 39s 714us/step - loss: 0.0975 - acc: 0.9630 - val_loss: 0.1983 - val_acc: 0.9387\n",
      "Epoch 32/50\n",
      "54000/54000 [==============================] - 38s 703us/step - loss: 0.0950 - acc: 0.9641 - val_loss: 0.1989 - val_acc: 0.9388\n",
      "Epoch 33/50\n",
      "54000/54000 [==============================] - 33s 613us/step - loss: 0.0899 - acc: 0.9658 - val_loss: 0.2030 - val_acc: 0.9378\n",
      "Epoch 34/50\n",
      "54000/54000 [==============================] - 33s 607us/step - loss: 0.0908 - acc: 0.9651 - val_loss: 0.1995 - val_acc: 0.9378\n",
      "Epoch 35/50\n",
      "54000/54000 [==============================] - 33s 607us/step - loss: 0.0888 - acc: 0.9658 - val_loss: 0.2001 - val_acc: 0.9385\n",
      "\n",
      "Epoch 00035: ReduceLROnPlateau reducing learning rate to 1.0000000474974514e-05.\n",
      "Epoch 36/50\n",
      "54000/54000 [==============================] - 33s 606us/step - loss: 0.0874 - acc: 0.9670 - val_loss: 0.2001 - val_acc: 0.9392\n",
      "Epoch 37/50\n",
      "54000/54000 [==============================] - 33s 605us/step - loss: 0.0844 - acc: 0.9683 - val_loss: 0.2005 - val_acc: 0.9397\n",
      "Epoch 38/50\n",
      "54000/54000 [==============================] - 33s 607us/step - loss: 0.0855 - acc: 0.9683 - val_loss: 0.2008 - val_acc: 0.9393\n",
      "Epoch 39/50\n",
      "54000/54000 [==============================] - 33s 606us/step - loss: 0.0837 - acc: 0.9685 - val_loss: 0.2014 - val_acc: 0.9398\n",
      "Epoch 40/50\n",
      "54000/54000 [==============================] - 33s 606us/step - loss: 0.0860 - acc: 0.9667 - val_loss: 0.2006 - val_acc: 0.9397\n",
      "Epoch 41/50\n",
      "54000/54000 [==============================] - 33s 607us/step - loss: 0.0829 - acc: 0.9692 - val_loss: 0.2006 - val_acc: 0.9393\n",
      "Epoch 42/50\n",
      "54000/54000 [==============================] - 33s 605us/step - loss: 0.0824 - acc: 0.9690 - val_loss: 0.2006 - val_acc: 0.9400\n",
      "\n",
      "Epoch 00042: ReduceLROnPlateau reducing learning rate to 1.0000000656873453e-06.\n",
      "Epoch 43/50\n",
      "54000/54000 [==============================] - 33s 604us/step - loss: 0.0831 - acc: 0.9689 - val_loss: 0.2006 - val_acc: 0.9400\n",
      "Epoch 44/50\n",
      "54000/54000 [==============================] - 33s 604us/step - loss: 0.0842 - acc: 0.9683 - val_loss: 0.2007 - val_acc: 0.9400\n",
      "Epoch 45/50\n",
      "54000/54000 [==============================] - 33s 603us/step - loss: 0.0836 - acc: 0.9684 - val_loss: 0.2007 - val_acc: 0.9400\n",
      "Epoch 46/50\n",
      "54000/54000 [==============================] - 32s 597us/step - loss: 0.0845 - acc: 0.9675 - val_loss: 0.2007 - val_acc: 0.9400\n",
      "Epoch 47/50\n",
      "54000/54000 [==============================] - 32s 599us/step - loss: 0.0843 - acc: 0.9684 - val_loss: 0.2007 - val_acc: 0.9402\n",
      "Epoch 48/50\n",
      "54000/54000 [==============================] - 33s 605us/step - loss: 0.0849 - acc: 0.9683 - val_loss: 0.2007 - val_acc: 0.9400\n",
      "Epoch 49/50\n",
      "54000/54000 [==============================] - 32s 597us/step - loss: 0.0819 - acc: 0.9694 - val_loss: 0.2007 - val_acc: 0.9400\n",
      "\n",
      "Epoch 00049: ReduceLROnPlateau reducing learning rate to 1.0000001111620805e-07.\n",
      "Epoch 50/50\n",
      "54000/54000 [==============================] - 32s 600us/step - loss: 0.0853 - acc: 0.9678 - val_loss: 0.2007 - val_acc: 0.9400\n"
     ]
    }
   ],
   "source": [
    "model = build_model(num_of_classes)\n",
    "print(model.summary())\n",
    "epochs=50\n",
    "\n",
    "mcp_save = ModelCheckpoint('.mdl_wts.hdf5', save_best_only=True, monitor='val_loss', mode='min')\n",
    "reduce_lr_loss = ReduceLROnPlateau(monitor='val_loss', factor=0.1, patience=7, verbose=1, epsilon=1e-4, mode='min')\n",
    "\n",
    "result = model.fit(train_data_t, train_labels_t, epochs=epochs, batch_size=64,\n",
    "                   callbacks=[mcp_save, reduce_lr_loss],\n",
    "                   validation_data=(train_data_val, train_labels_val))\n"
   ]
  },
  {
   "cell_type": "markdown",
   "metadata": {},
   "source": [
    "## Analyze the results"
   ]
  },
  {
   "cell_type": "code",
   "execution_count": 10,
   "metadata": {},
   "outputs": [
    {
     "name": "stdout",
     "output_type": "stream",
     "text": [
      "num of epochs:  50\n"
     ]
    },
    {
     "data": {
      "image/png": "[encoded data removed]",
      "text/plain": [
       "<Figure size 720x576 with 1 Axes>"
      ]
     },
     "metadata": {
      "needs_background": "light"
     },
     "output_type": "display_data"
    }
   ],
   "source": [
    "type(result.history)\n",
    "result.history.keys()\n",
    "print(\"num of epochs: \", len(result.history['val_loss']))\n",
    "show_model_results(result.history)"
   ]
  },
  {
   "cell_type": "markdown",
   "metadata": {},
   "source": [
    "## Test the best model with test set"
   ]
  },
  {
   "cell_type": "code",
   "execution_count": 11,
   "metadata": {},
   "outputs": [
    {
     "name": "stdout",
     "output_type": "stream",
     "text": [
      "10000/10000 [==============================] - 2s 164us/step\n",
      "test loss:  0.212817649102211\n",
      "test accuracy:  0.9331\n"
     ]
    }
   ],
   "source": [
    "test_results = model.evaluate(test_data, test_labels, batch_size=64)\n",
    "print(\"test loss: \", test_results[0])\n",
    "print(\"test accuracy: \", test_results[1])"
   ]
  }
 ],
 "metadata": {
  "kernelspec": {
   "display_name": "Python 3",
   "language": "python",
   "name": "python3"
  },
  "language_info": {
   "codemirror_mode": {
    "name": "ipython",
    "version": 3
   },
   "file_extension": ".py",
   "mimetype": "text/x-python",
   "name": "python",
   "nbconvert_exporter": "python",
   "pygments_lexer": "ipython3",
   "version": "3.7.3"
  }
 },
 "nbformat": 4,
 "nbformat_minor": 2
}
